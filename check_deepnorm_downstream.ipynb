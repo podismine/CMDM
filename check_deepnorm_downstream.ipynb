{
 "cells": [
  {
   "cell_type": "code",
   "execution_count": 1,
   "id": "94b8ffb0-cacf-4462-9bbb-6c83afd43b62",
   "metadata": {},
   "outputs": [],
   "source": [
    "import torch\n",
    "import numpy as np\n",
    "from data import Task1Data, Task2Data, Task3Data\n",
    "import os\n",
    "import statsmodels.api as sm\n",
    "import matplotlib.pyplot as plt"
   ]
  },
  {
   "cell_type": "code",
   "execution_count": 2,
   "id": "5bb76043-b20a-4657-8941-458ffc1e568c",
   "metadata": {},
   "outputs": [
    {
     "name": "stdout",
     "output_type": "stream",
     "text": [
      "(712, 62, 2) (712,) (712,)\n",
      "(999, 62, 2) (999,) (999,)\n",
      "(649, 62, 2) (649,) (649,)\n",
      "Finding files: 2360/2360/2360\n",
      "Finding files: 1031/1031/1031\n",
      "Finding files: 712/712/712\n",
      "380/332\n",
      "Finding files: 604/604/604\n",
      "272/332\n"
     ]
    }
   ],
   "source": [
    "norm_dataset = Task1Data()\n",
    "abide_dataset = Task2Data()\n",
    "mci_dataset = Task3Data(no=2)\n",
    "ad_dataset = Task3Data(no=1)\n"
   ]
  },
  {
   "cell_type": "code",
   "execution_count": 6,
   "id": "17e295e7-e373-4224-8d27-0847894b188a",
   "metadata": {},
   "outputs": [],
   "source": [
    "name = 'res/search_param0.002_mom0.05/'\n",
    "all_data = np.zeros((2,100,256,62))\n",
    "\n",
    "sex_0_mean = np.zeros((100,62))\n",
    "sex_0_std = np.zeros((100,62))\n",
    "\n",
    "sex_1_mean = np.zeros((100,62))\n",
    "sex_1_std = np.zeros((100,62))\n",
    "for sex in range(2):\n",
    "    for age in range(100):\n",
    "        dat = np.load(f\"{name}//sex-{sex}_age-{age}.npy\")\n",
    "        if sex == 0:\n",
    "            sex_0_mean[age] = dat.mean(0).reshape(-1)[:62]\n",
    "            sex_0_std[age] = dat.std(0).reshape(-1)[:62]\n",
    "        else:\n",
    "            sex_1_mean[age] = dat.mean(0).reshape(-1)[:62]\n",
    "            sex_1_std[age] = dat.std(0).reshape(-1)[:62]\n",
    "        all_data[sex,age] = dat[:,:62]"
   ]
  },
  {
   "cell_type": "code",
   "execution_count": 78,
   "id": "7cf6404a-885e-4613-89ee-89c7f379ecc0",
   "metadata": {},
   "outputs": [],
   "source": [
    "name = 'res/search_param0.002_mom0.05/'\n",
    "all_data = np.zeros((2,100,256,62))\n",
    "\n",
    "statis_dist = np.zeros((2,100,62, 10))\n",
    "statis_std = np.zeros((2,100,62, 1))\n",
    "\n",
    "\n",
    "for sex in range(2):\n",
    "    for age in range(100):\n",
    "        dat = np.load(f\"{name}//sex-{sex}_age-{age}.npy\")\n",
    "        for bins in range(1,11):\n",
    "            statis_dist[sex,age,:,bins-1] = np.quantile(dat[:,:62],bins*0.1, axis=0)\n",
    "        statis_std[sex,age,:,0] = dat.std(0).reshape(-1)[:62]\n",
    "        all_data[sex,age] = dat[:,:62]"
   ]
  },
  {
   "cell_type": "code",
   "execution_count": 124,
   "id": "32c7f18e-3738-4485-bf6f-9a0d442bc6d5",
   "metadata": {},
   "outputs": [],
   "source": [
    "use_feas = abide_dataset.ct_feas[:,:,0]\n",
    "use_feas = use_feas[...,None].repeat(10,axis=2)\n",
    "use_age = abide_dataset.ages\n",
    "use_sex = abide_dataset.sexs\n",
    "use_dx = abide_dataset.dx\n",
    "\n",
    "mine_feas = np.zeros_like(use_feas)\n",
    "mine_feas = (use_feas - statis_dist[use_sex.astype(int),use_age.astype(int)] ) / statis_std[use_sex.astype(int),use_age.astype(int)]"
   ]
  },
  {
   "cell_type": "code",
   "execution_count": 137,
   "id": "acda0612-47cd-49eb-888e-8973b9735746",
   "metadata": {},
   "outputs": [],
   "source": [
    "use_feas = ad_dataset.ct_feas[:,:,0]\n",
    "use_feas = use_feas[...,None].repeat(10,axis=2)\n",
    "use_age = ad_dataset.ages\n",
    "use_sex = ad_dataset.sexs\n",
    "use_dx = ad_dataset.dx\n",
    "\n",
    "mine_feas = np.zeros_like(use_feas)\n",
    "mine_feas = (use_feas - statis_dist[use_sex.astype(int),use_age.astype(int)] ) / statis_std[use_sex.astype(int),use_age.astype(int)]"
   ]
  },
  {
   "cell_type": "code",
   "execution_count": 164,
   "id": "0d3a8eb9-8271-4828-9743-bfc994c422e2",
   "metadata": {},
   "outputs": [],
   "source": [
    "use_feas = mci_dataset.ct_feas[:,:,0]\n",
    "use_feas = use_feas[...,None].repeat(10,axis=2)\n",
    "use_age = mci_dataset.ages\n",
    "use_sex = mci_dataset.sexs\n",
    "use_dx = mci_dataset.dx\n",
    "\n",
    "mine_feas = np.zeros_like(use_feas)\n",
    "mine_feas = (use_feas - statis_dist[use_sex.astype(int),use_age.astype(int)] ) / statis_std[use_sex.astype(int),use_age.astype(int)]"
   ]
  },
  {
   "cell_type": "code",
   "execution_count": 165,
   "id": "8ce6fbe9-9523-4ea9-a5c6-41649125d9ab",
   "metadata": {},
   "outputs": [],
   "source": [
    "mine_X = mine_feas.reshape((len(mine_feas)), -1)\n",
    "mine_y = use_dx\n",
    "z_scores = mine_feas[...,4]\n"
   ]
  },
  {
   "cell_type": "code",
   "execution_count": 166,
   "id": "a50eafed-3873-4062-8677-14247f9d8037",
   "metadata": {},
   "outputs": [
    {
     "name": "stdout",
     "output_type": "stream",
     "text": [
      "0.5154494382022472\n"
     ]
    }
   ],
   "source": [
    "from sklearn.cluster import KMeans\n",
    "from sklearn.metrics import silhouette_score\n",
    "\n",
    "# 尝试不同的k值\n",
    "scores = []\n",
    "\n",
    "kmeans = KMeans(n_clusters=2, random_state=42)\n",
    "labels = kmeans.fit_predict(mine_X)\n",
    "z_scores = mine_feas[...,4]\n",
    "\n",
    "if z_scores[labels == 1].mean() > z_scores[labels == 0].mean():\n",
    "    labels = 1 - labels\n",
    "score = accuracy_score(labels, mine_y)\n",
    "print(score)\n"
   ]
  },
  {
   "cell_type": "code",
   "execution_count": 167,
   "id": "18bd71ed-08e9-456f-a508-0e7fb0aac1b3",
   "metadata": {},
   "outputs": [
    {
     "name": "stdout",
     "output_type": "stream",
     "text": [
      "GMM Accuracy: 0.49297752808988765\n"
     ]
    }
   ],
   "source": [
    "from sklearn.mixture import GaussianMixture\n",
    "\n",
    "# 使用GMM\n",
    "gmm = GaussianMixture(n_components=2, random_state=42)\n",
    "labels_gmm = gmm.fit_predict(mine_X)\n",
    "\n",
    "# 确保标签对应关系\n",
    "if z_scores[labels_gmm == 1].mean() > z_scores[labels_gmm == 0].mean():\n",
    "    labels_gmm = 1 - labels_gmm\n",
    "\n",
    "score_gmm = accuracy_score(labels_gmm, mine_y)\n",
    "print(f\"GMM Accuracy: {score_gmm}\")"
   ]
  },
  {
   "cell_type": "code",
   "execution_count": 168,
   "id": "26c73fe1-7e19-4ab2-8e58-d79c80017a64",
   "metadata": {},
   "outputs": [
    {
     "name": "stdout",
     "output_type": "stream",
     "text": [
      "DBSCAN Accuracy: 0.5337078651685393\n"
     ]
    }
   ],
   "source": [
    "from sklearn.cluster import DBSCAN\n",
    "from sklearn.preprocessing import StandardScaler\n",
    "\n",
    "\n",
    "# DBSCAN\n",
    "dbscan = DBSCAN(eps=0.5, min_samples=50)\n",
    "labels_dbscan = dbscan.fit_predict(mine_X)\n",
    "\n",
    "# 将-1标签转换为0或1\n",
    "if -1 in labels_dbscan:\n",
    "    labels_dbscan = (labels_dbscan == -1).astype(int)\n",
    "\n",
    "# 确保标签对应关系\n",
    "if z_scores[labels_dbscan == 1].mean() > z_scores[labels_dbscan == 0].mean():\n",
    "    labels_dbscan = 1 - labels_dbscan\n",
    "\n",
    "score_dbscan = accuracy_score(labels_dbscan, mine_y)\n",
    "print(f\"DBSCAN Accuracy: {score_dbscan}\")"
   ]
  },
  {
   "cell_type": "code",
   "execution_count": 174,
   "id": "9d159bea-6c19-4974-805f-a5c29ab131f7",
   "metadata": {},
   "outputs": [
    {
     "name": "stdout",
     "output_type": "stream",
     "text": [
      "PCA+GMM Accuracy: 0.5182584269662921\n"
     ]
    }
   ],
   "source": [
    "# 如果mine_feas有多个特征，可以结合它们\n",
    "from sklearn.preprocessing import StandardScaler\n",
    "from sklearn.decomposition import PCA\n",
    "\n",
    "# PCA降维\n",
    "pca = PCA(n_components=0.99)  # 保留95%方差\n",
    "X_pca = pca.fit_transform(mine_X)\n",
    "\n",
    "# 使用GMM在降维后的数据上\n",
    "gmm = GaussianMixture(n_components=2, random_state=42)\n",
    "labels_pca_gmm = gmm.fit_predict(X_pca)\n",
    "\n",
    "# 确保标签对应关系\n",
    "if z_scores[labels_pca_gmm == 1].mean() > z_scores[labels_pca_gmm == 0].mean():\n",
    "    labels_pca_gmm = 1 - labels_pca_gmm\n",
    "\n",
    "score_pca_gmm = accuracy_score(labels_pca_gmm, mine_y)\n",
    "print(f\"PCA+GMM Accuracy: {score_pca_gmm}\")"
   ]
  },
  {
   "cell_type": "code",
   "execution_count": null,
   "id": "7e33195f-e109-4155-b86c-553f611f1077",
   "metadata": {},
   "outputs": [],
   "source": []
  },
  {
   "cell_type": "code",
   "execution_count": null,
   "id": "83bcdfa3-bc40-485b-9fcd-b6a38cd612ce",
   "metadata": {},
   "outputs": [],
   "source": []
  },
  {
   "cell_type": "code",
   "execution_count": null,
   "id": "48dc5992-8e59-4bdb-8c7c-9abef09375bb",
   "metadata": {},
   "outputs": [],
   "source": []
  },
  {
   "cell_type": "code",
   "execution_count": 89,
   "id": "528ad670-c283-4423-9e03-f255be13db0a",
   "metadata": {},
   "outputs": [],
   "source": [
    "from sklearn.model_selection import cross_val_score, KFold\n",
    "from sklearn.svm import SVC\n",
    "from sklearn.preprocessing import StandardScaler\n",
    "from sklearn.pipeline import make_pipeline"
   ]
  },
  {
   "cell_type": "code",
   "execution_count": 180,
   "id": "ce169254-686e-486c-8b65-2865f24e8ba0",
   "metadata": {},
   "outputs": [
    {
     "name": "stdout",
     "output_type": "stream",
     "text": [
      "Cross-validation scores: [0.56643357 0.62237762 0.57746479 0.57746479 0.61971831]\n",
      "Mean accuracy: 0.59\n",
      "****************************************\n",
      "Cross-validation scores: [0.53846154 0.60839161 0.57042254 0.6056338  0.61971831]\n",
      "Mean accuracy: 0.59\n"
     ]
    }
   ],
   "source": [
    "svm1 = SVC()\n",
    "svm2 = SVC()\n",
    "\n",
    "pipeline = make_pipeline(svm1)\n",
    "X = use_feas.reshape((len(use_feas), -1))\n",
    "y = use_dx\n",
    "# 设置5折交叉验证\n",
    "kf = KFold(n_splits=5, shuffle=True, random_state=1)\n",
    "\n",
    "# 计算交叉验证的分数\n",
    "scores = cross_val_score(pipeline, X, y, cv=kf, scoring='accuracy')\n",
    "\n",
    "# 输出每折的得分和平均分\n",
    "print(f\"Cross-validation scores: {scores}\")\n",
    "print(f\"Mean accuracy: {scores.mean():.2f}\")\n",
    "\n",
    "print(\"*\" * 40)\n",
    "X2 = mine_feas.reshape((len(mine_feas), -1))\n",
    "y = use_dx\n",
    "# pipeline2 = make_pipeline(svm)\n",
    "pipeline2 = make_pipeline(svm2)\n",
    "\n",
    "scores2 = cross_val_score(pipeline2, X2, y, cv=kf, scoring='accuracy')\n",
    "# 输出每折的得分和平均分\n",
    "print(f\"Cross-validation scores: {scores2}\")\n",
    "print(f\"Mean accuracy: {scores2.mean():.2f}\")"
   ]
  },
  {
   "cell_type": "code",
   "execution_count": null,
   "id": "9d3552d5-2ed4-4d38-8af3-cfd84cc1802e",
   "metadata": {},
   "outputs": [],
   "source": []
  }
 ],
 "metadata": {
  "kernelspec": {
   "display_name": "Python 3 (ipykernel)",
   "language": "python",
   "name": "python3"
  },
  "language_info": {
   "codemirror_mode": {
    "name": "ipython",
    "version": 3
   },
   "file_extension": ".py",
   "mimetype": "text/x-python",
   "name": "python",
   "nbconvert_exporter": "python",
   "pygments_lexer": "ipython3",
   "version": "3.12.4"
  }
 },
 "nbformat": 4,
 "nbformat_minor": 5
}
